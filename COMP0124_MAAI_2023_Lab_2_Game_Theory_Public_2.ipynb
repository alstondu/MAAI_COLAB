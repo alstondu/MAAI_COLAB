{
  "nbformat": 4,
  "nbformat_minor": 0,
  "metadata": {
    "colab": {
      "provenance": [],
      "include_colab_link": true
    },
    "kernelspec": {
      "name": "python3",
      "display_name": "Python 3"
    }
  },
  "cells": [
    {
      "cell_type": "markdown",
      "metadata": {
        "id": "view-in-github",
        "colab_type": "text"
      },
      "source": [
        "<a href=\"https://colab.research.google.com/github/alstondu/MAAI_COLAB/blob/main/COMP0124_MAAI_2023_Lab_2_Game_Theory_Public_2.ipynb\" target=\"_parent\"><img src=\"https://colab.research.google.com/assets/colab-badge.svg\" alt=\"Open In Colab\"/></a>"
      ]
    },
    {
      "cell_type": "markdown",
      "metadata": {
        "id": "6NQVCToZkRV8"
      },
      "source": [
        "# COMP0124 MAAI Lab 1 Game Theory Basics (2)\n",
        "\n",
        "## Instructions\n",
        "1.   To start this notebook, please duplicate this notebook at first:\n",
        "  - Choose \"File => Save a copy in Drive\" and open/run it in Colab.\n",
        "  - Or you can download the notebook and run it in your local jupyter notebook server.\n",
        "2.   For the code-based problems, please create code shells after and write your code-based answers. For analysis and discussion or no-code answers, you are free to add extra text blocks as you need.\n",
        "3. If you have any questions, please contact TAs:  [Oliver Slumbers](o.slumbers@cs.ucl.ac.uk), [Xihan Li](xihan.li.20@ucl.ac.uk), [Xidong Feng](xidong.feng@cs.ucl.ac.uk), and [Mengyue Yang](m.yang@cs.ucl.ac.uk)."
      ]
    },
    {
      "cell_type": "markdown",
      "source": [
        "### Q1: Matrix game (1)\n",
        "\n",
        "Find all mixed equilibria (which may include any pure equilibria) of this 3x2 game:\n",
        "\n",
        "![](data:image/png;base64,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)"
      ],
      "metadata": {
        "id": "iHHIM0k60kI-"
      }
    },
    {
      "cell_type": "markdown",
      "source": [
        "(a) Write down (in text), step by step, your method of finding them\n",
        "\n",
        "*Please write your steps here.*\n",
        "\n",
        "(b) Write a code using NashPy to validate your results."
      ],
      "metadata": {
        "id": "Tfcd9_DOLdPy"
      }
    },
    {
      "cell_type": "code",
      "source": [
        "!pip install nashpy"
      ],
      "metadata": {
        "colab": {
          "base_uri": "https://localhost:8080/"
        },
        "id": "KWu-8BDRUuwc",
        "outputId": "95cbc794-ee93-4760-b77c-9ec9b7c48184"
      },
      "execution_count": null,
      "outputs": [
        {
          "output_type": "stream",
          "name": "stdout",
          "text": [
            "Looking in indexes: https://pypi.org/simple, https://us-python.pkg.dev/colab-wheels/public/simple/\n",
            "Collecting nashpy\n",
            "  Downloading nashpy-0.0.36-py3-none-any.whl (25 kB)\n",
            "Requirement already satisfied: scipy>=0.19.0 in /usr/local/lib/python3.8/dist-packages (from nashpy) (1.7.3)\n",
            "Requirement already satisfied: numpy>=1.21.0 in /usr/local/lib/python3.8/dist-packages (from nashpy) (1.21.6)\n",
            "Installing collected packages: nashpy\n",
            "Successfully installed nashpy-0.0.36\n"
          ]
        }
      ]
    },
    {
      "cell_type": "code",
      "source": [
        "import nashpy\n",
        "import numpy as np\n",
        "\n",
        "A = np.array([[0, 6], [2, 5], [3, 3]])\n",
        "B = np.array([[1, 0], [0, 2], [3, 4]])\n",
        "### TODO: use Nashpy to validate your result ###\n",
        "\n",
        "### END TODO ###"
      ],
      "metadata": {
        "id": "8mGAcJOWLi1P"
      },
      "execution_count": null,
      "outputs": []
    },
    {
      "cell_type": "markdown",
      "source": [
        "(c) Refer to (Reference: https://nashpy.readthedocs.io/en/stable/text-book/support-enumeration.html) to know what the support enumuration method is, and directly utilize the support enumurtion method in NashPy Library to solve the above example. Test that it can also solve larger games such as 4x4."
      ],
      "metadata": {
        "id": "rkIWOyfGXSDU"
      }
    },
    {
      "cell_type": "code",
      "source": [
        "import nashpy\n",
        "import numpy as np\n",
        "\n",
        "def find_nash_equilibria(A, B):     # A and B can be of any size\n",
        "    results = []\n",
        "    ### TODO: automate you  r method in (1) and store all the nash equilibria in `results` ###\n",
        "\n",
        "    ### END TODO ###\n",
        "    return results\n",
        "\n",
        "A = np.random.rand(4, 4)\n",
        "B = np.random.rand(4, 4)\n",
        "\n",
        "print(find_nash_equilibria(A, B))\n",
        "### TODO: check the correctness of your implementation by comparing it with the result provided by Nashpy ###\n",
        "\n",
        "### END TODO ###"
      ],
      "metadata": {
        "id": "FlnilJ7HYG4h",
        "colab": {
          "base_uri": "https://localhost:8080/"
        },
        "outputId": "24c75e0f-1f2d-4279-b097-2ed582ee8157"
      },
      "execution_count": null,
      "outputs": [
        {
          "output_type": "stream",
          "name": "stdout",
          "text": [
            "[]\n"
          ]
        }
      ]
    },
    {
      "cell_type": "markdown",
      "source": [
        "### Q2: Matrix Game (2)\n",
        "\n",
        "Consider the following 2x5 game:\n",
        "\n",
        "![](data:image/png;base64,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)"
      ],
      "metadata": {
        "id": "IMHdMpv32Y0B"
      }
    },
    {
      "cell_type": "markdown",
      "source": [
        "(a) Use python to plot the expected payoffs to player II for all her strategies $a, b, c, d, e$, in terms of the probability $p$, say, that player I plays strategy $B$. Indicate the best responses of player II, depending on that probability $p$.\n",
        "\n",
        "\n",
        "(b) Using the diagram in (a), find all mixed (including pure) equilibria of the game."
      ],
      "metadata": {
        "id": "gsYPhkmFY17W"
      }
    },
    {
      "cell_type": "markdown",
      "source": [
        "## Q3: Mixed Strategy\n",
        "\n",
        " In this $2 \\times 2$ game, $A, B, C, D$ are the payoffs to player I, which are real numbers, no two of which are equal. Similarly, $a, b, c, d$ are the payoffs to player II, which are real numbers, also no two of which are equal.\n",
        "\n",
        "$$\n",
        "\\mathbf{R} = \\left[\\begin{matrix}\n",
        "A, a & B, b \\\\\n",
        "C, c & D, d\n",
        "\\end{matrix}\\right]\n",
        "$$\n",
        "\n",
        "(a) Under which conditions does this game have a mixed equilibrium which is not a pure-strategy equilibrium?\n",
        "[Hint: Consider the possible patterns of best responses and resulting possible dominance relations, and express this by comparing the payoffs, as, for example, $A>C$.]\n",
        "\n",
        "(b) Under which conditions in (a) is this the only equilibrium of the game?\n",
        "\n",
        "(c) Consider one of the situations in (b) and compute the probabilities $1-p$ and $p$ for playing Top and Bottom, respectively, and $1-q$ and $q$ for playing left and right, respectively, that hold in equilibrium."
      ],
      "metadata": {
        "id": "v7GSXm1g2sI4"
      }
    },
    {
      "cell_type": "code",
      "source": [],
      "metadata": {
        "id": "OK-Oc7aK2v6d"
      },
      "execution_count": null,
      "outputs": []
    }
  ]
}